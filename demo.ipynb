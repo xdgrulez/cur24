{
 "cells": [
  {
   "cell_type": "markdown",
   "metadata": {},
   "source": [
    "# Kafi - Your Swiss Army Knife for Kafka Scripting\n",
    "### Ralph Debusmann, Migros-Genossenschafts-Bund, Zürich, Switzerland"
   ]
  },
  {
   "cell_type": "markdown",
   "metadata": {},
   "source": [
    "***"
   ]
  },
  {
   "cell_type": "markdown",
   "metadata": {},
   "source": [
    "Welcome to a typical Kafka administrator nightmare...\n",
    "\n",
    "...and how Kafi, your Swiss army knife for Kafka, will help us to get out of it. "
   ]
  },
  {
   "cell_type": "markdown",
   "metadata": {},
   "source": [
    "***"
   ]
  },
  {
   "cell_type": "markdown",
   "metadata": {},
   "source": [
    "The situation: We have a JSONSchema-serialized topic \"products\" and a qualification test is looming for an application consuming from that topic."
   ]
  },
  {
   "cell_type": "markdown",
   "metadata": {},
   "source": [
    "***"
   ]
  },
  {
   "cell_type": "markdown",
   "metadata": {},
   "source": [
    "Let's run the qualification test..."
   ]
  },
  {
   "cell_type": "markdown",
   "metadata": {},
   "source": [
    "***"
   ]
  },
  {
   "cell_type": "markdown",
   "metadata": {},
   "source": [
    "What's wrong with the topic?"
   ]
  },
  {
   "cell_type": "code",
   "execution_count": null,
   "metadata": {},
   "outputs": [],
   "source": [
    "from kafi.kafi import *\n",
    "\n",
    "# Connect to Kafka\n",
    "c = Cluster(\"local\")\n",
    "\n",
    "# Read the first message of the topic\n",
    "c.head(\"products\", type=\"bytes\", n=1)"
   ]
  },
  {
   "cell_type": "markdown",
   "metadata": {},
   "source": [
    "***"
   ]
  },
  {
   "cell_type": "markdown",
   "metadata": {},
   "source": [
    "How many message values do not start with the magic byte (0)?"
   ]
  },
  {
   "cell_type": "code",
   "execution_count": null,
   "metadata": {},
   "outputs": [],
   "source": [
    "x = c.filter(\"products\", type=\"bytes\", filter_function=lambda x: x[\"value\"][0] != 0)\n",
    "print(len(x[0]))"
   ]
  },
  {
   "cell_type": "markdown",
   "metadata": {},
   "source": [
    "***"
   ]
  },
  {
   "cell_type": "markdown",
   "metadata": {},
   "source": [
    "Let's do a backup of these faulty messages to a topic backed by Kafi's Kafka emulator."
   ]
  },
  {
   "cell_type": "code",
   "execution_count": null,
   "metadata": {},
   "outputs": [],
   "source": [
    "# Connect to Kafi's Kafka emulator\n",
    "l = Local(\"local\")\n",
    "\n",
    "# (Re)create the backup topic\n",
    "l.retouch(\"products_backup\")\n",
    "\n",
    "# Copy the first 100 messages from the Kafka topic \"products\" to the topic \"products_backup\" on the Kafka emulator\n",
    "c.cp(\"products\", l, \"products_backup\", source_type=\"json\", target_type=\"json\", n=100)"
   ]
  },
  {
   "cell_type": "markdown",
   "metadata": {},
   "source": [
    "***"
   ]
  },
  {
   "cell_type": "markdown",
   "metadata": {},
   "source": [
    "And then delete the first 100 messages on the real Kafka topic."
   ]
  },
  {
   "cell_type": "code",
   "execution_count": 5,
   "metadata": {},
   "outputs": [],
   "source": [
    "c.delete_records({\"products\": {0: 100}})"
   ]
  },
  {
   "cell_type": "code",
   "execution_count": null,
   "metadata": {},
   "outputs": [],
   "source": [
    "c.watermarks(\"products\")"
   ]
  },
  {
   "cell_type": "markdown",
   "metadata": {},
   "source": [
    "***"
   ]
  },
  {
   "cell_type": "markdown",
   "metadata": {},
   "source": [
    "Let's run the qualification test again..."
   ]
  },
  {
   "cell_type": "markdown",
   "metadata": {},
   "source": [
    "***"
   ]
  },
  {
   "cell_type": "markdown",
   "metadata": {},
   "source": [
    "However, we do have to bring back the first 100 messages (the producers are not available)."
   ]
  },
  {
   "cell_type": "code",
   "execution_count": null,
   "metadata": {},
   "outputs": [],
   "source": [
    "# Get the schema ID of the first good message value\n",
    "z = c.head(\"products\", type=\"bytes\", n=1)\n",
    "sid = int.from_bytes(z[0][\"value\"][1:5], \"big\")\n",
    "\n",
    "# Try to copy the backup to Kafka (this time - correctly JSONSchema-serialized)\n",
    "l.cp(\"products_backup\", c, \"products\", target_value_type=\"jsonschema\", target_value_schema_id=sid)"
   ]
  },
  {
   "cell_type": "markdown",
   "metadata": {},
   "source": [
    "***"
   ]
  },
  {
   "cell_type": "markdown",
   "metadata": {},
   "source": [
    "SerializationError: 'price' is a required property...\n",
    "\n",
    "Let's check in Excel..."
   ]
  },
  {
   "cell_type": "code",
   "execution_count": null,
   "metadata": {},
   "outputs": [],
   "source": [
    "# Copy the backup to an Excel file\n",
    "l.to_file(\"products_backup\", l, \"products_backup.xlsx\", n=100)"
   ]
  },
  {
   "cell_type": "markdown",
   "metadata": {},
   "source": [
    "***"
   ]
  },
  {
   "cell_type": "markdown",
   "metadata": {},
   "source": [
    "Because the topic is on Kafi's Kafka emulator, we can just fix the messages in-place."
   ]
  },
  {
   "cell_type": "markdown",
   "metadata": {},
   "source": [
    "***"
   ]
  },
  {
   "cell_type": "markdown",
   "metadata": {},
   "source": [
    "And let's try to bring back the messages to the Kafka topic once again..."
   ]
  },
  {
   "cell_type": "code",
   "execution_count": null,
   "metadata": {},
   "outputs": [],
   "source": [
    "l.cp(\"products_backup\", c, \"products\", target_value_type=\"jsonschema\", target_value_schema_id=sid)"
   ]
  },
  {
   "cell_type": "code",
   "execution_count": null,
   "metadata": {},
   "outputs": [],
   "source": [
    "c.watermarks(\"products\")"
   ]
  },
  {
   "cell_type": "code",
   "execution_count": null,
   "metadata": {},
   "outputs": [],
   "source": [
    "c.tail(\"products\", type=\"bytes\", n=1)"
   ]
  },
  {
   "cell_type": "markdown",
   "metadata": {},
   "source": [
    "***"
   ]
  },
  {
   "cell_type": "markdown",
   "metadata": {},
   "source": [
    "And let's run the qualification test one (hopefully last) time..."
   ]
  },
  {
   "cell_type": "markdown",
   "metadata": {},
   "source": [
    "***"
   ]
  },
  {
   "cell_type": "markdown",
   "metadata": {},
   "source": [
    "Very last step: Let's create a copy of that fixed topic in Parquet format for the analytics team - on S3."
   ]
  },
  {
   "cell_type": "code",
   "execution_count": null,
   "metadata": {},
   "outputs": [],
   "source": [
    "# Connect to S3\n",
    "s = S3(\"local\")\n",
    "\n",
    "# Copy the Kafka topic to a Parquet file on S3\n",
    "c.to_file(\"products\", s, \"products.parquet\", type=\"jsonschema\")"
   ]
  },
  {
   "cell_type": "markdown",
   "metadata": {},
   "source": [
    "***"
   ]
  },
  {
   "cell_type": "markdown",
   "metadata": {},
   "source": [
    "That's really it.\n",
    "\n",
    "Thanks to all my colleagues from Migros in Zürich, in particular the Data Integration team, especially Martin Muggli and Jason Nguyen - the Kafka guys. "
   ]
  },
  {
   "cell_type": "markdown",
   "metadata": {},
   "source": [
    "Get your copy of Kafi from GitHub: https://github.com/xdgrulez/kafi or just install it from PyPI (\"kafi\")"
   ]
  },
  {
   "cell_type": "markdown",
   "metadata": {},
   "source": [
    "***"
   ]
  },
  {
   "cell_type": "markdown",
   "metadata": {},
   "source": [
    "Blatant advertising follows."
   ]
  },
  {
   "cell_type": "markdown",
   "metadata": {},
   "source": [
    "Get your copy of the new O'Reilly book \"Streaming Databases\" by Hubert Dulay and me."
   ]
  },
  {
   "cell_type": "markdown",
   "metadata": {},
   "source": [
    "And hand in exciting abstracts to the new, non-vendor-centric conference about everything events and streaming: EventCentric 2025 (Antwerp, Belgium, June 2-5, 2025) https://aardling.eu/en/eventcentric-2025-coming-soon\n"
   ]
  }
 ],
 "metadata": {
  "kernelspec": {
   "display_name": "venv",
   "language": "python",
   "name": "python3"
  },
  "language_info": {
   "codemirror_mode": {
    "name": "ipython",
    "version": 3
   },
   "file_extension": ".py",
   "mimetype": "text/x-python",
   "name": "python",
   "nbconvert_exporter": "python",
   "pygments_lexer": "ipython3",
   "version": "3.10.12"
  }
 },
 "nbformat": 4,
 "nbformat_minor": 2
}
